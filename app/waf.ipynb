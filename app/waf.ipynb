{
 "cells": [
  {
   "cell_type": "code",
   "execution_count": 47,
   "metadata": {},
   "outputs": [
    {
     "name": "stdout",
     "output_type": "stream",
     "text": [
      "Data Shape: (30919, 2)\n",
      "                                                   Query  Label\n",
      "15622                                          chapurrar      0\n",
      "4165   1' where 8837  =  8837 and 5556  =    (  selec...      1\n",
      "19278                                               dido      0\n",
      "363     select * from users where id  =  1 or \";[\" or...      1\n",
      "25702   SELECT * FROM broad ORDER BY took ASC, happen...      0\n",
      "13463                                           claudine      0\n",
      "10262  1\" where 7232  =  7232   (  select   (  case w...      1\n",
      "28942  SELECT * FROM tribe WHERE ought = 'possible'  ...      0\n",
      "22016             SELECT COUNT ( activityID ) FROM ready      0\n",
      "29252                             SELECT * FROM creature      0\n"
     ]
    }
   ],
   "source": [
    "import numpy as np\n",
    "import pandas as pd\n",
    "import matplotlib.pyplot as plt\n",
    "from sklearn.feature_extraction.text import CountVectorizer\n",
    "from sklearn.model_selection import train_test_split\n",
    "from sklearn.metrics import accuracy_score, f1_score\n",
    "from sklearn import tree\n",
    "import tensorflow as tf\n",
    "from tensorflow.keras.utils import plot_model # type: ignore\n",
    "from tensorflow.keras import models, layers # type: ignore\n",
    "from nltk.corpus import stopwords\n",
    "import warnings\n",
    "warnings.filterwarnings('ignore')\n",
    "\n",
    "\n",
    "df = pd.read_csv(\"./SQL_Dataset.csv\")\n",
    "print(\"Data Shape:\", df.shape)\n",
    "df = df.sample(frac = 1)\n",
    "print(df.head(10))\n",
    "X = df['Query']\n",
    "y = df['Label']"
   ]
  },
  {
   "cell_type": "code",
   "execution_count": 48,
   "metadata": {},
   "outputs": [
    {
     "name": "stderr",
     "output_type": "stream",
     "text": [
      "[nltk_data] Downloading package stopwords to\n",
      "[nltk_data]     /Users/otterilyu/nltk_data...\n",
      "[nltk_data]   Package stopwords is already up-to-date!\n"
     ]
    },
    {
     "name": "stdout",
     "output_type": "stream",
     "text": [
      "(27827, 6594) (27827,)\n",
      "(3092, 6594) (3092,)\n"
     ]
    }
   ],
   "source": [
    "import nltk\n",
    "nltk.download('stopwords')\n",
    "vectorizer = CountVectorizer(min_df = 2, max_df = 0.8, stop_words = stopwords.words('english'))\n",
    "X = vectorizer.fit_transform(X.values.astype('U')).toarray()\n",
    "X_train, X_test, y_train, y_test = train_test_split(X, y, test_size = 0.1)\n",
    "print(X_train.shape, y_train.shape)\n",
    "print(X_test.shape, y_test.shape)"
   ]
  },
  {
   "cell_type": "code",
   "execution_count": 53,
   "metadata": {},
   "outputs": [
    {
     "data": {
      "text/html": [
       "<pre style=\"white-space:pre;overflow-x:auto;line-height:normal;font-family:Menlo,'DejaVu Sans Mono',consolas,'Courier New',monospace\"><span style=\"font-weight: bold\">Model: \"sequential_6\"</span>\n",
       "</pre>\n"
      ],
      "text/plain": [
       "\u001b[1mModel: \"sequential_6\"\u001b[0m\n"
      ]
     },
     "metadata": {},
     "output_type": "display_data"
    },
    {
     "data": {
      "text/html": [
       "<pre style=\"white-space:pre;overflow-x:auto;line-height:normal;font-family:Menlo,'DejaVu Sans Mono',consolas,'Courier New',monospace\">┏━━━━━━━━━━━━━━━━━━━━━━━━━━━━━━━━━┳━━━━━━━━━━━━━━━━━━━━━━━━┳━━━━━━━━━━━━━━━┓\n",
       "┃<span style=\"font-weight: bold\"> Layer (type)                    </span>┃<span style=\"font-weight: bold\"> Output Shape           </span>┃<span style=\"font-weight: bold\">       Param # </span>┃\n",
       "┡━━━━━━━━━━━━━━━━━━━━━━━━━━━━━━━━━╇━━━━━━━━━━━━━━━━━━━━━━━━╇━━━━━━━━━━━━━━━┩\n",
       "│ conv1d_21 (<span style=\"color: #0087ff; text-decoration-color: #0087ff\">Conv1D</span>)              │ (<span style=\"color: #00d7ff; text-decoration-color: #00d7ff\">None</span>, <span style=\"color: #00af00; text-decoration-color: #00af00\">1</span>, <span style=\"color: #00af00; text-decoration-color: #00af00\">32</span>)          │       <span style=\"color: #00af00; text-decoration-color: #00af00\">211,040</span> │\n",
       "├─────────────────────────────────┼────────────────────────┼───────────────┤\n",
       "│ conv1d_22 (<span style=\"color: #0087ff; text-decoration-color: #0087ff\">Conv1D</span>)              │ (<span style=\"color: #00d7ff; text-decoration-color: #00d7ff\">None</span>, <span style=\"color: #00af00; text-decoration-color: #00af00\">1</span>, <span style=\"color: #00af00; text-decoration-color: #00af00\">32</span>)          │         <span style=\"color: #00af00; text-decoration-color: #00af00\">1,056</span> │\n",
       "├─────────────────────────────────┼────────────────────────┼───────────────┤\n",
       "│ flatten_4 (<span style=\"color: #0087ff; text-decoration-color: #0087ff\">Flatten</span>)             │ (<span style=\"color: #00d7ff; text-decoration-color: #00d7ff\">None</span>, <span style=\"color: #00af00; text-decoration-color: #00af00\">32</span>)             │             <span style=\"color: #00af00; text-decoration-color: #00af00\">0</span> │\n",
       "├─────────────────────────────────┼────────────────────────┼───────────────┤\n",
       "│ dense_7 (<span style=\"color: #0087ff; text-decoration-color: #0087ff\">Dense</span>)                 │ (<span style=\"color: #00d7ff; text-decoration-color: #00d7ff\">None</span>, <span style=\"color: #00af00; text-decoration-color: #00af00\">1</span>)              │            <span style=\"color: #00af00; text-decoration-color: #00af00\">33</span> │\n",
       "└─────────────────────────────────┴────────────────────────┴───────────────┘\n",
       "</pre>\n"
      ],
      "text/plain": [
       "┏━━━━━━━━━━━━━━━━━━━━━━━━━━━━━━━━━┳━━━━━━━━━━━━━━━━━━━━━━━━┳━━━━━━━━━━━━━━━┓\n",
       "┃\u001b[1m \u001b[0m\u001b[1mLayer (type)                   \u001b[0m\u001b[1m \u001b[0m┃\u001b[1m \u001b[0m\u001b[1mOutput Shape          \u001b[0m\u001b[1m \u001b[0m┃\u001b[1m \u001b[0m\u001b[1m      Param #\u001b[0m\u001b[1m \u001b[0m┃\n",
       "┡━━━━━━━━━━━━━━━━━━━━━━━━━━━━━━━━━╇━━━━━━━━━━━━━━━━━━━━━━━━╇━━━━━━━━━━━━━━━┩\n",
       "│ conv1d_21 (\u001b[38;5;33mConv1D\u001b[0m)              │ (\u001b[38;5;45mNone\u001b[0m, \u001b[38;5;34m1\u001b[0m, \u001b[38;5;34m32\u001b[0m)          │       \u001b[38;5;34m211,040\u001b[0m │\n",
       "├─────────────────────────────────┼────────────────────────┼───────────────┤\n",
       "│ conv1d_22 (\u001b[38;5;33mConv1D\u001b[0m)              │ (\u001b[38;5;45mNone\u001b[0m, \u001b[38;5;34m1\u001b[0m, \u001b[38;5;34m32\u001b[0m)          │         \u001b[38;5;34m1,056\u001b[0m │\n",
       "├─────────────────────────────────┼────────────────────────┼───────────────┤\n",
       "│ flatten_4 (\u001b[38;5;33mFlatten\u001b[0m)             │ (\u001b[38;5;45mNone\u001b[0m, \u001b[38;5;34m32\u001b[0m)             │             \u001b[38;5;34m0\u001b[0m │\n",
       "├─────────────────────────────────┼────────────────────────┼───────────────┤\n",
       "│ dense_7 (\u001b[38;5;33mDense\u001b[0m)                 │ (\u001b[38;5;45mNone\u001b[0m, \u001b[38;5;34m1\u001b[0m)              │            \u001b[38;5;34m33\u001b[0m │\n",
       "└─────────────────────────────────┴────────────────────────┴───────────────┘\n"
      ]
     },
     "metadata": {},
     "output_type": "display_data"
    },
    {
     "data": {
      "text/html": [
       "<pre style=\"white-space:pre;overflow-x:auto;line-height:normal;font-family:Menlo,'DejaVu Sans Mono',consolas,'Courier New',monospace\"><span style=\"font-weight: bold\"> Total params: </span><span style=\"color: #00af00; text-decoration-color: #00af00\">212,129</span> (828.63 KB)\n",
       "</pre>\n"
      ],
      "text/plain": [
       "\u001b[1m Total params: \u001b[0m\u001b[38;5;34m212,129\u001b[0m (828.63 KB)\n"
      ]
     },
     "metadata": {},
     "output_type": "display_data"
    },
    {
     "data": {
      "text/html": [
       "<pre style=\"white-space:pre;overflow-x:auto;line-height:normal;font-family:Menlo,'DejaVu Sans Mono',consolas,'Courier New',monospace\"><span style=\"font-weight: bold\"> Trainable params: </span><span style=\"color: #00af00; text-decoration-color: #00af00\">212,129</span> (828.63 KB)\n",
       "</pre>\n"
      ],
      "text/plain": [
       "\u001b[1m Trainable params: \u001b[0m\u001b[38;5;34m212,129\u001b[0m (828.63 KB)\n"
      ]
     },
     "metadata": {},
     "output_type": "display_data"
    },
    {
     "data": {
      "text/html": [
       "<pre style=\"white-space:pre;overflow-x:auto;line-height:normal;font-family:Menlo,'DejaVu Sans Mono',consolas,'Courier New',monospace\"><span style=\"font-weight: bold\"> Non-trainable params: </span><span style=\"color: #00af00; text-decoration-color: #00af00\">0</span> (0.00 B)\n",
       "</pre>\n"
      ],
      "text/plain": [
       "\u001b[1m Non-trainable params: \u001b[0m\u001b[38;5;34m0\u001b[0m (0.00 B)\n"
      ]
     },
     "metadata": {},
     "output_type": "display_data"
    },
    {
     "name": "stdout",
     "output_type": "stream",
     "text": [
      "Epoch 1/10\n",
      "\u001b[1m870/870\u001b[0m \u001b[32m━━━━━━━━━━━━━━━━━━━━\u001b[0m\u001b[37m\u001b[0m \u001b[1m4s\u001b[0m 3ms/step - accuracy: 0.8764 - loss: 0.3073 - val_accuracy: 0.9622 - val_loss: 0.1058\n",
      "Epoch 2/10\n",
      "\u001b[1m870/870\u001b[0m \u001b[32m━━━━━━━━━━━━━━━━━━━━\u001b[0m\u001b[37m\u001b[0m \u001b[1m2s\u001b[0m 2ms/step - accuracy: 0.9789 - loss: 0.0674 - val_accuracy: 0.9628 - val_loss: 0.1210\n",
      "Epoch 3/10\n",
      "\u001b[1m870/870\u001b[0m \u001b[32m━━━━━━━━━━━━━━━━━━━━\u001b[0m\u001b[37m\u001b[0m \u001b[1m2s\u001b[0m 2ms/step - accuracy: 0.9838 - loss: 0.0545 - val_accuracy: 0.9631 - val_loss: 0.1237\n",
      "Epoch 4/10\n",
      "\u001b[1m870/870\u001b[0m \u001b[32m━━━━━━━━━━━━━━━━━━━━\u001b[0m\u001b[37m\u001b[0m \u001b[1m2s\u001b[0m 2ms/step - accuracy: 0.9843 - loss: 0.0536 - val_accuracy: 0.9631 - val_loss: 0.1294\n",
      "Epoch 5/10\n",
      "\u001b[1m870/870\u001b[0m \u001b[32m━━━━━━━━━━━━━━━━━━━━\u001b[0m\u001b[37m\u001b[0m \u001b[1m2s\u001b[0m 2ms/step - accuracy: 0.9839 - loss: 0.0525 - val_accuracy: 0.9622 - val_loss: 0.1356\n",
      "Epoch 6/10\n",
      "\u001b[1m870/870\u001b[0m \u001b[32m━━━━━━━━━━━━━━━━━━━━\u001b[0m\u001b[37m\u001b[0m \u001b[1m2s\u001b[0m 2ms/step - accuracy: 0.9839 - loss: 0.0525 - val_accuracy: 0.9612 - val_loss: 0.1434\n",
      "Epoch 7/10\n",
      "\u001b[1m870/870\u001b[0m \u001b[32m━━━━━━━━━━━━━━━━━━━━\u001b[0m\u001b[37m\u001b[0m \u001b[1m2s\u001b[0m 2ms/step - accuracy: 0.9852 - loss: 0.0493 - val_accuracy: 0.9596 - val_loss: 0.1578\n",
      "Epoch 8/10\n",
      "\u001b[1m870/870\u001b[0m \u001b[32m━━━━━━━━━━━━━━━━━━━━\u001b[0m\u001b[37m\u001b[0m \u001b[1m2s\u001b[0m 2ms/step - accuracy: 0.9839 - loss: 0.0534 - val_accuracy: 0.9602 - val_loss: 0.1550\n",
      "Epoch 9/10\n",
      "\u001b[1m870/870\u001b[0m \u001b[32m━━━━━━━━━━━━━━━━━━━━\u001b[0m\u001b[37m\u001b[0m \u001b[1m2s\u001b[0m 2ms/step - accuracy: 0.9849 - loss: 0.0497 - val_accuracy: 0.9612 - val_loss: 0.1570\n",
      "Epoch 10/10\n",
      "\u001b[1m870/870\u001b[0m \u001b[32m━━━━━━━━━━━━━━━━━━━━\u001b[0m\u001b[37m\u001b[0m \u001b[1m3s\u001b[0m 3ms/step - accuracy: 0.9855 - loss: 0.0485 - val_accuracy: 0.9605 - val_loss: 0.1664\n"
     ]
    }
   ],
   "source": [
    "model = models.Sequential()\n",
    "model.add(layers.Conv1D(32, 1, activation = 'relu', input_shape = (1,6594)))\n",
    "model.add(layers.Conv1D(32, 1, activation = 'relu'))\n",
    "model.add(layers.Flatten())\n",
    "model.add(layers.Dense(1, activation = 'sigmoid'))\n",
    "model.compile(optimizer = 'adam', loss = tf.keras.losses.BinaryCrossentropy(), metrics = ['accuracy'])\n",
    "model.summary()\n",
    "\n",
    "# model = models.Sequential()\n",
    "# # First Convolutional Layer\n",
    "# model.add(layers.Conv1D(2048, 1, activation='relu', input_shape=(1, 6594)))\n",
    "# model.add(layers.BatchNormalization())\n",
    "# model.add(layers.MaxPooling1D(1, strides=4))\n",
    "\n",
    "# # Second Convolutional Layer\n",
    "# model.add(layers.Conv1D(2048, 1, padding='same', activation='relu'))\n",
    "# model.add(layers.BatchNormalization())\n",
    "# model.add(layers.MaxPooling1D(1, strides=4))\n",
    "\n",
    "# # Other Convolutional Layers\n",
    "# model.add(layers.Conv1D(1024, 1, padding='same', activation='relu'))\n",
    "# model.add(layers.Conv1D(512, 1, padding='same', activation='relu'))\n",
    "# model.add(layers.Conv1D(256, 1, padding='same', activation='relu'))\n",
    "# model.add(layers.Conv1D(128, 1, padding='same', activation='relu'))\n",
    "# model.add(layers.Conv1D(64, 1, padding='same', activation='relu'))\n",
    "# model.add(layers.Conv1D(32, 1, padding='same', activation='relu'))\n",
    "\n",
    "# # Flattening the outputs from the convolutional layers to feed into the dense layers\n",
    "# model.add(layers.Flatten())\n",
    "\n",
    "# # First Dense Layer\n",
    "# model.add(layers.Dense(16, activation='relu'))\n",
    "# model.add(layers.Dropout(0.5))\n",
    "\n",
    "# # Output Layer\n",
    "# model.add(layers.Dense(1, activation='sigmoid'))\n",
    "\n",
    "# # Compile the model\n",
    "# model.compile(optimizer='adam',\n",
    "#               loss=tf.keras.losses.BinaryCrossentropy(),\n",
    "#               metrics=['accuracy'])\n",
    "\n",
    "# # Model Summary\n",
    "# model.summary()\n",
    "\n",
    "X_train1 = X_train.reshape(-1, 1, 6594)\n",
    "X_test1 = X_test.reshape(-1, 1, 6594)\n",
    "\n",
    "history = model.fit(X_train1, y_train, epochs = 10, validation_data = (X_test1, y_test))"
   ]
  },
  {
   "cell_type": "code",
   "execution_count": 54,
   "metadata": {},
   "outputs": [
    {
     "name": "stdout",
     "output_type": "stream",
     "text": [
      "\u001b[1m97/97\u001b[0m \u001b[32m━━━━━━━━━━━━━━━━━━━━\u001b[0m\u001b[37m\u001b[0m \u001b[1m0s\u001b[0m 3ms/step\n",
      "Accuracy of CNN on test set : 0.9605433376455369\n",
      "F1 Score of CNN on test set : 0.9446460980036298\n"
     ]
    }
   ],
   "source": [
    "y_pred = model.predict(X_test1).flatten()\n",
    "# y_pred1 = [1 if x>-0.5 else 0 for x in y_pred]\n",
    "y_pred = np.round(y_pred)\n",
    "print(f\"Accuracy of CNN on test set : {accuracy_score(y_pred, y_test)}\")\n",
    "print(f\"F1 Score of CNN on test set : {f1_score(y_pred, y_test)}\")"
   ]
  },
  {
   "cell_type": "code",
   "execution_count": 55,
   "metadata": {},
   "outputs": [
    {
     "name": "stdout",
     "output_type": "stream",
     "text": [
      "\u001b[1m1/1\u001b[0m \u001b[32m━━━━━━━━━━━━━━━━━━━━\u001b[0m\u001b[37m\u001b[0m \u001b[1m0s\u001b[0m 53ms/step\n",
      "[0.9998115]\n"
     ]
    }
   ],
   "source": [
    "new_query = [\"SELECT * FROM messages WHERE name='Mason' AND password='123456'\"]\n",
    "new_query = vectorizer.transform(new_query).toarray()\n",
    "new_query = new_query.reshape(-1, 1, 6594)\n",
    "y_pred = model.predict(new_query).flatten()\n",
    "print(y_pred)"
   ]
  },
  {
   "cell_type": "code",
   "execution_count": 56,
   "metadata": {},
   "outputs": [
    {
     "name": "stdout",
     "output_type": "stream",
     "text": [
      "\u001b[1m1/1\u001b[0m \u001b[32m━━━━━━━━━━━━━━━━━━━━\u001b[0m\u001b[37m\u001b[0m \u001b[1m0s\u001b[0m 19ms/step\n",
      "[0.9998115]\n"
     ]
    }
   ],
   "source": [
    "new_query = [\"SELECT * FROM messages WHERE name='' OR 'a'='a';--' AND password='123456qwer'\"]\n",
    "new_query = vectorizer.transform(new_query).toarray()\n",
    "new_query = new_query.reshape(-1, 1, 6594)\n",
    "y_pred = model.predict(new_query).flatten()\n",
    "print(y_pred)"
   ]
  },
  {
   "cell_type": "markdown",
   "metadata": {},
   "source": []
  }
 ],
 "metadata": {
  "kernelspec": {
   "display_name": "ml",
   "language": "python",
   "name": "python3"
  },
  "language_info": {
   "codemirror_mode": {
    "name": "ipython",
    "version": 3
   },
   "file_extension": ".py",
   "mimetype": "text/x-python",
   "name": "python",
   "nbconvert_exporter": "python",
   "pygments_lexer": "ipython3",
   "version": "3.11.8"
  }
 },
 "nbformat": 4,
 "nbformat_minor": 2
}
