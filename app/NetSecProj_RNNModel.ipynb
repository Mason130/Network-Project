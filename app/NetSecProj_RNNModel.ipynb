{
  "cells": [
    {
      "cell_type": "markdown",
      "source": [
        "#### **Imports**"
      ],
      "metadata": {
        "id": "A96HPllBzB_1"
      }
    },
    {
      "cell_type": "code",
      "execution_count": 1,
      "metadata": {
        "id": "u7heENnWRpjv"
      },
      "outputs": [],
      "source": [
        "import numpy as np\n",
        "import pandas as pd\n",
        "import matplotlib.pyplot as plt\n",
        "from sklearn.feature_extraction.text import CountVectorizer\n",
        "from sklearn.model_selection import train_test_split\n",
        "from sklearn.metrics import accuracy_score, f1_score\n",
        "from sklearn.linear_model import LogisticRegression\n",
        "from sklearn.ensemble import RandomForestClassifier\n",
        "from sklearn.svm import SVC\n",
        "from sklearn.naive_bayes import GaussianNB\n",
        "from sklearn.metrics import confusion_matrix, classification_report, f1_score, precision_score, recall_score, accuracy_score\n",
        "from sklearn.metrics import precision_recall_curve,precision_recall_fscore_support\n",
        "import seaborn as sns\n",
        "\n",
        "from sklearn import tree\n",
        "import tensorflow as tf\n",
        "from tensorflow.keras.utils import plot_model # type: ignore\n",
        "from tensorflow.keras import models, layers # type: ignore\n",
        "from nltk.corpus import stopwords\n",
        "from torch.utils.data import DataLoader, Dataset\n",
        "import torch\n",
        "from torch.optim import Adam\n",
        "from typing import List, Tuple, Callable\n",
        "import numpy as np\n",
        "import warnings\n",
        "warnings.filterwarnings('ignore')"
      ]
    },
    {
      "cell_type": "markdown",
      "source": [
        "### **Read Data**"
      ],
      "metadata": {
        "id": "QfkICxqwSROs"
      }
    },
    {
      "cell_type": "code",
      "source": [
        "from google.colab import drive\n",
        "drive.mount('/content/drive')"
      ],
      "metadata": {
        "colab": {
          "base_uri": "https://localhost:8080/"
        },
        "id": "6Z4T6ynNX472",
        "outputId": "01a488f9-625e-4ee2-fbe8-e001f0d06e31"
      },
      "execution_count": 2,
      "outputs": [
        {
          "output_type": "stream",
          "name": "stdout",
          "text": [
            "Mounted at /content/drive\n"
          ]
        }
      ]
    },
    {
      "cell_type": "code",
      "source": [
        "url1 = '/content/drive/MyDrive/UVA/Network/project/Modified_SQL_Dataset.csv'\n",
        "url2 = '/content/drive/MyDrive/UVA/Network/project/SQLiV3.csv'\n",
        "url3 = '/content/drive/MyDrive/UVA/Network/project/sqli.csv'\n",
        "url4 = '/content/drive/MyDrive/UVA/Network/project/sqliv2.csv'\n",
        "df1 = pd.read_csv(url1, header=None, skiprows=1)\n",
        "df2 = pd.read_csv(url2, header=None, skiprows=1)\n",
        "df3 = pd.read_csv(url3, header=None, skiprows=1, encoding='utf-16')\n",
        "df4 = pd.read_csv(url4, header=None, skiprows=1, encoding='utf-16')"
      ],
      "metadata": {
        "id": "7oD9lXT1R6Cd"
      },
      "execution_count": 3,
      "outputs": []
    },
    {
      "cell_type": "code",
      "source": [
        "# deal with df2\n",
        "print(len(df2))\n",
        "\n",
        "# Filter the DataFrame to keep only rows where the second column has '0' or '1'\n",
        "df2 = df2[df2.iloc[:, 1].isin(['0', '1'])].iloc[:, [0,1]]\n",
        "df2.iloc[:,1] = df2.iloc[:,1].astype(int)\n",
        "\n",
        "print(len(df2))"
      ],
      "metadata": {
        "colab": {
          "base_uri": "https://localhost:8080/"
        },
        "id": "ikPW3nPPhmOk",
        "outputId": "a9017ef5-3080-434f-8fec-8ab3a423cc1f"
      },
      "execution_count": 4,
      "outputs": [
        {
          "output_type": "stream",
          "name": "stdout",
          "text": [
            "30919\n",
            "30609\n"
          ]
        }
      ]
    },
    {
      "cell_type": "code",
      "source": [
        "# Select first two columns\n",
        "df1_selected = df1.iloc[:, :2]\n",
        "df2_selected = df2.iloc[:, :2]\n",
        "df3_selected = df3.iloc[:, :2]\n",
        "df4_selected = df4.iloc[:, :2]\n",
        "\n",
        "# Concatenate the selected columns\n",
        "df = pd.concat([df1_selected, df2_selected, df3_selected, df4_selected], axis=0)\n",
        "\n",
        "# df = df1_selected\n",
        "df = df.rename(columns={0: 'query', 1: 'label'})\n",
        "df = df.dropna()\n",
        "df = df.reset_index(drop=True)\n",
        "\n",
        "# Show the concatenated DataFrame\n",
        "print(len(df))\n",
        "df.head(100)"
      ],
      "metadata": {
        "colab": {
          "base_uri": "https://localhost:8080/",
          "height": 441
        },
        "id": "TfUjUt3zW76o",
        "outputId": "392d4b9f-15c6-4d98-e7c6-ddeaf6c34fc2"
      },
      "execution_count": 5,
      "outputs": [
        {
          "output_type": "stream",
          "name": "stdout",
          "text": [
            "99472\n"
          ]
        },
        {
          "output_type": "execute_result",
          "data": {
            "text/plain": [
              "                                                query label\n",
              "0                   \" or pg_sleep  (  __TIME__  )  --     1\n",
              "1   create user name identified by pass123 tempora...     1\n",
              "2    AND 1  =  utl_inaddr.get_host_address   (    ...     1\n",
              "3    select * from users where id  =  '1' or @ @1 ...     1\n",
              "4    select * from users where id  =  1 or 1#\"  ( ...     1\n",
              "..                                                ...   ...\n",
              "95  select * from users where id  =  1 +$+. or 1  ...     1\n",
              "96  select * from users where id  =  1 or   (  \\+ ...     1\n",
              "97   AND 1  =  utl_inaddr.get_host_address   (    ...     1\n",
              "98                             or 1  =  1 or ''  =  '     1\n",
              "99  select * from users where id  =  1   or 1  =  ...     1\n",
              "\n",
              "[100 rows x 2 columns]"
            ],
            "text/html": [
              "\n",
              "  <div id=\"df-08c5b691-dd91-4731-9f30-e38c9640b159\" class=\"colab-df-container\">\n",
              "    <div>\n",
              "<style scoped>\n",
              "    .dataframe tbody tr th:only-of-type {\n",
              "        vertical-align: middle;\n",
              "    }\n",
              "\n",
              "    .dataframe tbody tr th {\n",
              "        vertical-align: top;\n",
              "    }\n",
              "\n",
              "    .dataframe thead th {\n",
              "        text-align: right;\n",
              "    }\n",
              "</style>\n",
              "<table border=\"1\" class=\"dataframe\">\n",
              "  <thead>\n",
              "    <tr style=\"text-align: right;\">\n",
              "      <th></th>\n",
              "      <th>query</th>\n",
              "      <th>label</th>\n",
              "    </tr>\n",
              "  </thead>\n",
              "  <tbody>\n",
              "    <tr>\n",
              "      <th>0</th>\n",
              "      <td>\" or pg_sleep  (  __TIME__  )  --</td>\n",
              "      <td>1</td>\n",
              "    </tr>\n",
              "    <tr>\n",
              "      <th>1</th>\n",
              "      <td>create user name identified by pass123 tempora...</td>\n",
              "      <td>1</td>\n",
              "    </tr>\n",
              "    <tr>\n",
              "      <th>2</th>\n",
              "      <td>AND 1  =  utl_inaddr.get_host_address   (    ...</td>\n",
              "      <td>1</td>\n",
              "    </tr>\n",
              "    <tr>\n",
              "      <th>3</th>\n",
              "      <td>select * from users where id  =  '1' or @ @1 ...</td>\n",
              "      <td>1</td>\n",
              "    </tr>\n",
              "    <tr>\n",
              "      <th>4</th>\n",
              "      <td>select * from users where id  =  1 or 1#\"  ( ...</td>\n",
              "      <td>1</td>\n",
              "    </tr>\n",
              "    <tr>\n",
              "      <th>...</th>\n",
              "      <td>...</td>\n",
              "      <td>...</td>\n",
              "    </tr>\n",
              "    <tr>\n",
              "      <th>95</th>\n",
              "      <td>select * from users where id  =  1 +$+. or 1  ...</td>\n",
              "      <td>1</td>\n",
              "    </tr>\n",
              "    <tr>\n",
              "      <th>96</th>\n",
              "      <td>select * from users where id  =  1 or   (  \\+ ...</td>\n",
              "      <td>1</td>\n",
              "    </tr>\n",
              "    <tr>\n",
              "      <th>97</th>\n",
              "      <td>AND 1  =  utl_inaddr.get_host_address   (    ...</td>\n",
              "      <td>1</td>\n",
              "    </tr>\n",
              "    <tr>\n",
              "      <th>98</th>\n",
              "      <td>or 1  =  1 or ''  =  '</td>\n",
              "      <td>1</td>\n",
              "    </tr>\n",
              "    <tr>\n",
              "      <th>99</th>\n",
              "      <td>select * from users where id  =  1   or 1  =  ...</td>\n",
              "      <td>1</td>\n",
              "    </tr>\n",
              "  </tbody>\n",
              "</table>\n",
              "<p>100 rows × 2 columns</p>\n",
              "</div>\n",
              "    <div class=\"colab-df-buttons\">\n",
              "\n",
              "  <div class=\"colab-df-container\">\n",
              "    <button class=\"colab-df-convert\" onclick=\"convertToInteractive('df-08c5b691-dd91-4731-9f30-e38c9640b159')\"\n",
              "            title=\"Convert this dataframe to an interactive table.\"\n",
              "            style=\"display:none;\">\n",
              "\n",
              "  <svg xmlns=\"http://www.w3.org/2000/svg\" height=\"24px\" viewBox=\"0 -960 960 960\">\n",
              "    <path d=\"M120-120v-720h720v720H120Zm60-500h600v-160H180v160Zm220 220h160v-160H400v160Zm0 220h160v-160H400v160ZM180-400h160v-160H180v160Zm440 0h160v-160H620v160ZM180-180h160v-160H180v160Zm440 0h160v-160H620v160Z\"/>\n",
              "  </svg>\n",
              "    </button>\n",
              "\n",
              "  <style>\n",
              "    .colab-df-container {\n",
              "      display:flex;\n",
              "      gap: 12px;\n",
              "    }\n",
              "\n",
              "    .colab-df-convert {\n",
              "      background-color: #E8F0FE;\n",
              "      border: none;\n",
              "      border-radius: 50%;\n",
              "      cursor: pointer;\n",
              "      display: none;\n",
              "      fill: #1967D2;\n",
              "      height: 32px;\n",
              "      padding: 0 0 0 0;\n",
              "      width: 32px;\n",
              "    }\n",
              "\n",
              "    .colab-df-convert:hover {\n",
              "      background-color: #E2EBFA;\n",
              "      box-shadow: 0px 1px 2px rgba(60, 64, 67, 0.3), 0px 1px 3px 1px rgba(60, 64, 67, 0.15);\n",
              "      fill: #174EA6;\n",
              "    }\n",
              "\n",
              "    .colab-df-buttons div {\n",
              "      margin-bottom: 4px;\n",
              "    }\n",
              "\n",
              "    [theme=dark] .colab-df-convert {\n",
              "      background-color: #3B4455;\n",
              "      fill: #D2E3FC;\n",
              "    }\n",
              "\n",
              "    [theme=dark] .colab-df-convert:hover {\n",
              "      background-color: #434B5C;\n",
              "      box-shadow: 0px 1px 3px 1px rgba(0, 0, 0, 0.15);\n",
              "      filter: drop-shadow(0px 1px 2px rgba(0, 0, 0, 0.3));\n",
              "      fill: #FFFFFF;\n",
              "    }\n",
              "  </style>\n",
              "\n",
              "    <script>\n",
              "      const buttonEl =\n",
              "        document.querySelector('#df-08c5b691-dd91-4731-9f30-e38c9640b159 button.colab-df-convert');\n",
              "      buttonEl.style.display =\n",
              "        google.colab.kernel.accessAllowed ? 'block' : 'none';\n",
              "\n",
              "      async function convertToInteractive(key) {\n",
              "        const element = document.querySelector('#df-08c5b691-dd91-4731-9f30-e38c9640b159');\n",
              "        const dataTable =\n",
              "          await google.colab.kernel.invokeFunction('convertToInteractive',\n",
              "                                                    [key], {});\n",
              "        if (!dataTable) return;\n",
              "\n",
              "        const docLinkHtml = 'Like what you see? Visit the ' +\n",
              "          '<a target=\"_blank\" href=https://colab.research.google.com/notebooks/data_table.ipynb>data table notebook</a>'\n",
              "          + ' to learn more about interactive tables.';\n",
              "        element.innerHTML = '';\n",
              "        dataTable['output_type'] = 'display_data';\n",
              "        await google.colab.output.renderOutput(dataTable, element);\n",
              "        const docLink = document.createElement('div');\n",
              "        docLink.innerHTML = docLinkHtml;\n",
              "        element.appendChild(docLink);\n",
              "      }\n",
              "    </script>\n",
              "  </div>\n",
              "\n",
              "\n",
              "<div id=\"df-b69c8d0a-1895-46d0-8505-45afa1f84407\">\n",
              "  <button class=\"colab-df-quickchart\" onclick=\"quickchart('df-b69c8d0a-1895-46d0-8505-45afa1f84407')\"\n",
              "            title=\"Suggest charts\"\n",
              "            style=\"display:none;\">\n",
              "\n",
              "<svg xmlns=\"http://www.w3.org/2000/svg\" height=\"24px\"viewBox=\"0 0 24 24\"\n",
              "     width=\"24px\">\n",
              "    <g>\n",
              "        <path d=\"M19 3H5c-1.1 0-2 .9-2 2v14c0 1.1.9 2 2 2h14c1.1 0 2-.9 2-2V5c0-1.1-.9-2-2-2zM9 17H7v-7h2v7zm4 0h-2V7h2v10zm4 0h-2v-4h2v4z\"/>\n",
              "    </g>\n",
              "</svg>\n",
              "  </button>\n",
              "\n",
              "<style>\n",
              "  .colab-df-quickchart {\n",
              "      --bg-color: #E8F0FE;\n",
              "      --fill-color: #1967D2;\n",
              "      --hover-bg-color: #E2EBFA;\n",
              "      --hover-fill-color: #174EA6;\n",
              "      --disabled-fill-color: #AAA;\n",
              "      --disabled-bg-color: #DDD;\n",
              "  }\n",
              "\n",
              "  [theme=dark] .colab-df-quickchart {\n",
              "      --bg-color: #3B4455;\n",
              "      --fill-color: #D2E3FC;\n",
              "      --hover-bg-color: #434B5C;\n",
              "      --hover-fill-color: #FFFFFF;\n",
              "      --disabled-bg-color: #3B4455;\n",
              "      --disabled-fill-color: #666;\n",
              "  }\n",
              "\n",
              "  .colab-df-quickchart {\n",
              "    background-color: var(--bg-color);\n",
              "    border: none;\n",
              "    border-radius: 50%;\n",
              "    cursor: pointer;\n",
              "    display: none;\n",
              "    fill: var(--fill-color);\n",
              "    height: 32px;\n",
              "    padding: 0;\n",
              "    width: 32px;\n",
              "  }\n",
              "\n",
              "  .colab-df-quickchart:hover {\n",
              "    background-color: var(--hover-bg-color);\n",
              "    box-shadow: 0 1px 2px rgba(60, 64, 67, 0.3), 0 1px 3px 1px rgba(60, 64, 67, 0.15);\n",
              "    fill: var(--button-hover-fill-color);\n",
              "  }\n",
              "\n",
              "  .colab-df-quickchart-complete:disabled,\n",
              "  .colab-df-quickchart-complete:disabled:hover {\n",
              "    background-color: var(--disabled-bg-color);\n",
              "    fill: var(--disabled-fill-color);\n",
              "    box-shadow: none;\n",
              "  }\n",
              "\n",
              "  .colab-df-spinner {\n",
              "    border: 2px solid var(--fill-color);\n",
              "    border-color: transparent;\n",
              "    border-bottom-color: var(--fill-color);\n",
              "    animation:\n",
              "      spin 1s steps(1) infinite;\n",
              "  }\n",
              "\n",
              "  @keyframes spin {\n",
              "    0% {\n",
              "      border-color: transparent;\n",
              "      border-bottom-color: var(--fill-color);\n",
              "      border-left-color: var(--fill-color);\n",
              "    }\n",
              "    20% {\n",
              "      border-color: transparent;\n",
              "      border-left-color: var(--fill-color);\n",
              "      border-top-color: var(--fill-color);\n",
              "    }\n",
              "    30% {\n",
              "      border-color: transparent;\n",
              "      border-left-color: var(--fill-color);\n",
              "      border-top-color: var(--fill-color);\n",
              "      border-right-color: var(--fill-color);\n",
              "    }\n",
              "    40% {\n",
              "      border-color: transparent;\n",
              "      border-right-color: var(--fill-color);\n",
              "      border-top-color: var(--fill-color);\n",
              "    }\n",
              "    60% {\n",
              "      border-color: transparent;\n",
              "      border-right-color: var(--fill-color);\n",
              "    }\n",
              "    80% {\n",
              "      border-color: transparent;\n",
              "      border-right-color: var(--fill-color);\n",
              "      border-bottom-color: var(--fill-color);\n",
              "    }\n",
              "    90% {\n",
              "      border-color: transparent;\n",
              "      border-bottom-color: var(--fill-color);\n",
              "    }\n",
              "  }\n",
              "</style>\n",
              "\n",
              "  <script>\n",
              "    async function quickchart(key) {\n",
              "      const quickchartButtonEl =\n",
              "        document.querySelector('#' + key + ' button');\n",
              "      quickchartButtonEl.disabled = true;  // To prevent multiple clicks.\n",
              "      quickchartButtonEl.classList.add('colab-df-spinner');\n",
              "      try {\n",
              "        const charts = await google.colab.kernel.invokeFunction(\n",
              "            'suggestCharts', [key], {});\n",
              "      } catch (error) {\n",
              "        console.error('Error during call to suggestCharts:', error);\n",
              "      }\n",
              "      quickchartButtonEl.classList.remove('colab-df-spinner');\n",
              "      quickchartButtonEl.classList.add('colab-df-quickchart-complete');\n",
              "    }\n",
              "    (() => {\n",
              "      let quickchartButtonEl =\n",
              "        document.querySelector('#df-b69c8d0a-1895-46d0-8505-45afa1f84407 button');\n",
              "      quickchartButtonEl.style.display =\n",
              "        google.colab.kernel.accessAllowed ? 'block' : 'none';\n",
              "    })();\n",
              "  </script>\n",
              "</div>\n",
              "\n",
              "    </div>\n",
              "  </div>\n"
            ],
            "application/vnd.google.colaboratory.intrinsic+json": {
              "type": "dataframe",
              "variable_name": "df",
              "summary": "{\n  \"name\": \"df\",\n  \"rows\": 99472,\n  \"fields\": [\n    {\n      \"column\": \"query\",\n      \"properties\": {\n        \"dtype\": \"string\",\n        \"num_unique_values\": 57540,\n        \"samples\": [\n          \"1'   )    )     (  select   (  case when   (  5451  =  5451  )   then regexp_substring  (  repeat  (  right  (  char  (  5451  )  ,0  )  ,500000000  )  ,null  )   else char  (  108  )  ||char  (  76  )  ||char  (  112  )  ||char  (  116  )   end  )   from information_schema.system_users  )   and    (    (   'rnyb'  =  'rnyb\",\n          \"cardona\",\n          \"-7466 where 5161  =  5161 or 3038  =  3038\"\n        ],\n        \"semantic_type\": \"\",\n        \"description\": \"\"\n      }\n    },\n    {\n      \"column\": \"label\",\n      \"properties\": {\n        \"dtype\": \"date\",\n        \"min\": 0,\n        \"max\": 1,\n        \"num_unique_values\": 2,\n        \"samples\": [\n          0,\n          1\n        ],\n        \"semantic_type\": \"\",\n        \"description\": \"\"\n      }\n    }\n  ]\n}"
            }
          },
          "metadata": {},
          "execution_count": 5
        }
      ]
    },
    {
      "cell_type": "code",
      "source": [],
      "metadata": {
        "id": "VtP8HnFDgi--"
      },
      "execution_count": 5,
      "outputs": []
    },
    {
      "cell_type": "code",
      "source": [],
      "metadata": {
        "id": "QgDuHjQIgjBb"
      },
      "execution_count": 5,
      "outputs": []
    },
    {
      "cell_type": "code",
      "source": [],
      "metadata": {
        "id": "fzKV2j4egjDv"
      },
      "execution_count": 5,
      "outputs": []
    },
    {
      "cell_type": "code",
      "source": [],
      "metadata": {
        "id": "TgwfmAWpgjF8"
      },
      "execution_count": 5,
      "outputs": []
    },
    {
      "cell_type": "code",
      "source": [],
      "metadata": {
        "id": "4FrJMxyhgjHj"
      },
      "execution_count": 5,
      "outputs": []
    },
    {
      "cell_type": "markdown",
      "source": [
        "### **Prepare training and testing data**"
      ],
      "metadata": {
        "id": "uBuWETuVkpyG"
      }
    },
    {
      "cell_type": "code",
      "source": [
        "X_txt = list(df['query'])\n",
        "y = list(df['label'])\n",
        "# print ratio of positive and negative\n",
        "print(y.count(0) / len(y))\n",
        "print(y.count(1) / len(y))\n",
        "\n",
        "# Train test split\n",
        "X_train_txt, X_test_txt, y_train, y_test = train_test_split(X_txt, y, test_size = 0.1)"
      ],
      "metadata": {
        "colab": {
          "base_uri": "https://localhost:8080/"
        },
        "id": "iPpUnXeDks2H",
        "outputId": "3a3fb464-16b6-4ece-aac9-e68581e867cd"
      },
      "execution_count": 6,
      "outputs": [
        {
          "output_type": "stream",
          "name": "stdout",
          "text": [
            "0.6450961074473218\n",
            "0.3549038925526781\n"
          ]
        }
      ]
    },
    {
      "cell_type": "markdown",
      "source": [
        "### **Tokenizer**"
      ],
      "metadata": {
        "id": "HYuRfqWCwuLL"
      }
    },
    {
      "cell_type": "markdown",
      "source": [
        "- 第一步： 建立tokenizer\n",
        "- 第二步： 对每一个query进行tokenize\n",
        "- 第三步： 同时建立vocabulary\n",
        "- 第四步： 再把所有数据建立embeddings"
      ],
      "metadata": {
        "id": "rNMksUEX6EjF"
      }
    },
    {
      "cell_type": "code",
      "source": [
        "import re\n",
        "from collections import defaultdict, Counter\n",
        "\n",
        "# Define tokenizer\n",
        "class Tokenizer:\n",
        "  def __init__(self):\n",
        "    pass\n",
        "  def tokenizer(query):\n",
        "      # Regular expression to capture URLs\n",
        "      url_pattern = r'https?://(?:[-\\w.]|(?:%[\\da-fA-F]{2}))+'\n",
        "\n",
        "      # Replace URLs with '<url>'\n",
        "      query = re.sub(url_pattern, '<url>', query, flags=re.IGNORECASE)\n",
        "\n",
        "      # Regular expression to capture words, single quotation marks, and other punctuation separately\n",
        "      pattern = r\"\"\"\n",
        "      \\w+|                  # Match sequences of word characters\n",
        "      ['\"]|                 # Match single or double quotes individually\n",
        "      [^\\w\\s'\"]             # Match any single character that is not a word character, whitespace, or quote\n",
        "      \"\"\"\n",
        "\n",
        "      # Use re.findall with the VERBOSE and IGNORECASE flags to allow whitespace and comments in the regex string\n",
        "      tokens = re.findall(pattern, query, re.VERBOSE | re.IGNORECASE)\n",
        "\n",
        "      # Normalize tokens to lowercase and replace digits with '<num>'\n",
        "      normalized_tokens = ['<num>' if token.isdigit() else token.lower() for token in tokens]\n",
        "      return normalized_tokens"
      ],
      "metadata": {
        "id": "e0jvt0WP4PNS"
      },
      "execution_count": 8,
      "outputs": []
    },
    {
      "cell_type": "code",
      "source": [
        "# Tokenize and record vocabulary\n",
        "tokenizer = Tokenizer.tokenizer\n",
        "vocab_counter = Counter()\n",
        "for query in X_train_txt: # [0:10000]\n",
        "    # print(query)\n",
        "    tokens = tokenizer(query)\n",
        "    vocab_counter.update(tokens)\n",
        "\n",
        "# Print all unique vocabularies\n",
        "# print(vocab_counter)\n",
        "print('total vocab length', len(vocab_counter))"
      ],
      "metadata": {
        "colab": {
          "base_uri": "https://localhost:8080/"
        },
        "id": "iAKRfZz__TOy",
        "outputId": "7eae481f-c661-48b6-d9e7-c3690ac9a884"
      },
      "execution_count": 12,
      "outputs": [
        {
          "output_type": "stream",
          "name": "stdout",
          "text": [
            "total vocab length 33102\n"
          ]
        }
      ]
    },
    {
      "cell_type": "code",
      "source": [
        "## Ignore all tokens appearing in less than 1% of data\n",
        "# Calculate the 5% threshold\n",
        "threshold = len(X_train_txt) * (2/len(X_train_txt))\n",
        "\n",
        "# Filter vocabularies by occurrence\n",
        "filtered_vocab = {token: count for token, count in vocab_counter.items() if count > threshold}\n",
        "\n",
        "# Handling tokens that appear less frequently than the threshold\n",
        "final_vocab = {token: i+1 for i, token in enumerate(filtered_vocab)}  # Start indexing from 1\n",
        "final_vocab['<unk>'] = 0  # Unknown tokens are indexed as 0\n",
        "final_vocab['<pad>'] = len(final_vocab)  # Padding tokens are indexed as last index\n",
        "\n",
        "# save final_vocab\n",
        "import pickle\n",
        "\n",
        "with open('final_vocab.pkl', 'wb') as f:\n",
        "    pickle.dump(final_vocab, f)\n",
        "\n",
        "with open('final_vocab.pkl', 'rb') as f:\n",
        "    final_vocab = pickle.load(f)\n",
        "\n",
        "# print(final_vocab)\n",
        "print('reduced vocab length', len(final_vocab))"
      ],
      "metadata": {
        "colab": {
          "base_uri": "https://localhost:8080/"
        },
        "id": "YwXKxLdX_Tge",
        "outputId": "1fefab7c-13cd-4a50-a9cb-e524c45866ee"
      },
      "execution_count": 50,
      "outputs": [
        {
          "output_type": "stream",
          "name": "stdout",
          "text": [
            "reduced vocab length 16214\n"
          ]
        }
      ]
    },
    {
      "cell_type": "markdown",
      "source": [
        "#### **Tokenize train data**"
      ],
      "metadata": {
        "id": "RUg4oICLIHs1"
      }
    },
    {
      "cell_type": "code",
      "source": [],
      "metadata": {
        "id": "Aq9LrMMxgZ9Z"
      },
      "execution_count": null,
      "outputs": []
    },
    {
      "cell_type": "code",
      "source": [
        "##\n",
        "temp_collector = []\n",
        "X_train_encoded = []\n",
        "\n",
        "#\n",
        "# for query in X_train_txt:\n",
        "#     # Tokenize and convert to indices\n",
        "#     indexed_query = [final_vocab.get(token, final_vocab['<unk>']) for token in tokenizer(query)]\n",
        "#     temp_collector.append(indexed_query)\n",
        "# #\n",
        "pad_length = 100 #max(len(query) for query in temp_collector)\n",
        "\n",
        "for query in X_train_txt:\n",
        "    # Tokenize and convert to indices\n",
        "    indexed_query = [final_vocab.get(token, final_vocab['<unk>']) for token in tokenizer(query)]\n",
        "    # Pad the query\n",
        "    if len(indexed_query) < pad_length:\n",
        "      padded_query = indexed_query + [final_vocab['<pad>']] * (pad_length - len(indexed_query))\n",
        "    else:\n",
        "      padded_query = indexed_query[:pad_length]\n",
        "    # Append the padded query to the list\n",
        "    X_train_encoded.append(padded_query[:pad_length])  # Ensure it does not exceed pad length"
      ],
      "metadata": {
        "id": "xlWlJcdbGYca"
      },
      "execution_count": 14,
      "outputs": []
    },
    {
      "cell_type": "code",
      "source": [
        "len(tokenizer(max(X_train_txt, key=len)))"
      ],
      "metadata": {
        "colab": {
          "base_uri": "https://localhost:8080/"
        },
        "id": "3nE-phI6f4vY",
        "outputId": "bd22fd28-8b28-4ebf-8d8d-0d1874961145"
      },
      "execution_count": 15,
      "outputs": [
        {
          "output_type": "execute_result",
          "data": {
            "text/plain": [
              "1043"
            ]
          },
          "metadata": {},
          "execution_count": 15
        }
      ]
    },
    {
      "cell_type": "code",
      "source": [
        "print(len(X_train_encoded))\n",
        "print(np.shape(X_train_encoded))\n",
        "# X_train_embeddings[999]"
      ],
      "metadata": {
        "colab": {
          "base_uri": "https://localhost:8080/"
        },
        "id": "3ZpXW99gIQ_P",
        "outputId": "6df927a0-b10d-4141-adc2-19e95b762fba"
      },
      "execution_count": 16,
      "outputs": [
        {
          "output_type": "stream",
          "name": "stdout",
          "text": [
            "89524\n",
            "(89524, 100)\n"
          ]
        }
      ]
    },
    {
      "cell_type": "markdown",
      "source": [
        "#### **Tokenize test data**"
      ],
      "metadata": {
        "id": "dZcz8j7BIDyz"
      }
    },
    {
      "cell_type": "code",
      "source": [
        "##\n",
        "temp_collector = []\n",
        "X_test_encoded = []\n",
        "\n",
        "for query in X_test_txt:\n",
        "    # Tokenize and convert to indices\n",
        "    indexed_query = [final_vocab.get(token, final_vocab['<unk>']) for token in tokenizer(query)]\n",
        "    # Pad the query\n",
        "    if len(indexed_query) < pad_length:\n",
        "      padded_query = indexed_query + [final_vocab['<pad>']] * (pad_length - len(indexed_query))\n",
        "    else:\n",
        "      padded_query = indexed_query[:pad_length]\n",
        "    # Append the padded query to the list\n",
        "    X_test_encoded.append(padded_query[:pad_length])  # Ensure it does not exceed pad length"
      ],
      "metadata": {
        "id": "FtUfXQYSG-yk"
      },
      "execution_count": 17,
      "outputs": []
    },
    {
      "cell_type": "code",
      "source": [
        "print(len(X_test_encoded))\n",
        "print(np.shape(X_test_encoded))\n",
        "# X_test_embeddings[999]"
      ],
      "metadata": {
        "colab": {
          "base_uri": "https://localhost:8080/"
        },
        "id": "_gvIs99zG-1j",
        "outputId": "3f07c398-bdb0-40cd-be97-b43661ff6389"
      },
      "execution_count": 18,
      "outputs": [
        {
          "output_type": "stream",
          "name": "stdout",
          "text": [
            "9948\n",
            "(9948, 100)\n"
          ]
        }
      ]
    },
    {
      "cell_type": "code",
      "source": [
        "idx = 123\n",
        "print(X_test_txt[idx])\n",
        "print(X_test_encoded[idx])\n",
        "print(y_test[idx])"
      ],
      "metadata": {
        "colab": {
          "base_uri": "https://localhost:8080/"
        },
        "id": "6xxgjBY9wwi1",
        "outputId": "8a72cb56-ecba-4b1e-846c-6184f13383f2"
      },
      "execution_count": 19,
      "outputs": [
        {
          "output_type": "stream",
          "name": "stdout",
          "text": [
            " He Kerr still love , emphasised 36-year-old \n",
            "[880, 6129, 4541, 5919, 13, 7631, 1, 18, 299, 18, 1106, 16213, 16213, 16213, 16213, 16213, 16213, 16213, 16213, 16213, 16213, 16213, 16213, 16213, 16213, 16213, 16213, 16213, 16213, 16213, 16213, 16213, 16213, 16213, 16213, 16213, 16213, 16213, 16213, 16213, 16213, 16213, 16213, 16213, 16213, 16213, 16213, 16213, 16213, 16213, 16213, 16213, 16213, 16213, 16213, 16213, 16213, 16213, 16213, 16213, 16213, 16213, 16213, 16213, 16213, 16213, 16213, 16213, 16213, 16213, 16213, 16213, 16213, 16213, 16213, 16213, 16213, 16213, 16213, 16213, 16213, 16213, 16213, 16213, 16213, 16213, 16213, 16213, 16213, 16213, 16213, 16213, 16213, 16213, 16213, 16213, 16213, 16213, 16213, 16213]\n",
            "0\n"
          ]
        }
      ]
    },
    {
      "cell_type": "code",
      "source": [],
      "metadata": {
        "id": "D0aqLfFww7e5"
      },
      "execution_count": null,
      "outputs": []
    },
    {
      "cell_type": "code",
      "source": [],
      "metadata": {
        "id": "uJyZh1Gdw7hP"
      },
      "execution_count": null,
      "outputs": []
    },
    {
      "cell_type": "code",
      "source": [],
      "metadata": {
        "id": "TpUIhxKJw7jj"
      },
      "execution_count": null,
      "outputs": []
    },
    {
      "cell_type": "markdown",
      "source": [
        "### **Custom Dataset**"
      ],
      "metadata": {
        "id": "3GqEiFhGPNLR"
      }
    },
    {
      "cell_type": "code",
      "source": [
        "# Define a simple dataset class\n",
        "class TextDataset(Dataset):\n",
        "    def __init__(self, texts, labels):\n",
        "        self.texts = torch.tensor(texts, dtype=torch.int64)\n",
        "        self.labels = torch.tensor(labels, dtype=torch.long)\n",
        "\n",
        "    def __len__(self):\n",
        "        return len(self.texts)\n",
        "\n",
        "    def __getitem__(self, idx):\n",
        "        return {'text': self.texts[idx], 'label': self.labels[idx]}\n",
        "\n",
        "# Instantiate the dataset and dataloaders\n",
        "train_dataset = TextDataset(X_train_encoded, y_train)\n",
        "test_dataset = TextDataset(X_test_encoded, y_test)\n",
        "\n",
        "from torch.utils.data import random_split\n",
        "\n",
        "# Assuming train_dataset is already created\n",
        "total_train_samples = len(train_dataset)\n",
        "train_size = int(0.8 * total_train_samples)\n",
        "val_size = total_train_samples - train_size\n",
        "\n",
        "train_subset, val_subset = random_split(train_dataset, [train_size, val_size])\n",
        "\n",
        "from torch.utils.data import DataLoader\n",
        "\n",
        "batch_size = 24\n",
        "\n",
        "train_loader = DataLoader(train_subset, batch_size=batch_size, shuffle=True)\n",
        "val_loader = DataLoader(val_subset, batch_size=batch_size, shuffle=False)\n",
        "test_loader = DataLoader(test_dataset, batch_size=batch_size, shuffle=False)"
      ],
      "metadata": {
        "id": "7hl-zCTyOY5d"
      },
      "execution_count": 20,
      "outputs": []
    },
    {
      "cell_type": "code",
      "source": [
        "print(len(train_loader), len(val_loader), len(test_loader))"
      ],
      "metadata": {
        "colab": {
          "base_uri": "https://localhost:8080/"
        },
        "id": "vyUAzZllxtWQ",
        "outputId": "597ff611-c2ca-4b47-9262-ba41edbbdfc6"
      },
      "execution_count": 21,
      "outputs": [
        {
          "output_type": "stream",
          "name": "stdout",
          "text": [
            "2985 747 415\n"
          ]
        }
      ]
    },
    {
      "cell_type": "code",
      "source": [],
      "metadata": {
        "id": "TYjfK2dzywKK"
      },
      "execution_count": null,
      "outputs": []
    },
    {
      "cell_type": "code",
      "source": [],
      "metadata": {
        "id": "4_8JDHHxywMo"
      },
      "execution_count": null,
      "outputs": []
    },
    {
      "cell_type": "code",
      "source": [],
      "metadata": {
        "id": "SII0hxRXywRD"
      },
      "execution_count": null,
      "outputs": []
    },
    {
      "cell_type": "markdown",
      "source": [
        "### **Model Defining and Training**"
      ],
      "metadata": {
        "id": "4-_-tFVektC_"
      }
    },
    {
      "cell_type": "code",
      "execution_count": 22,
      "metadata": {
        "id": "DE49aEE_V88e"
      },
      "outputs": [],
      "source": [
        "from torch import nn\n",
        "import torch.optim as optim"
      ]
    },
    {
      "cell_type": "code",
      "execution_count": 23,
      "metadata": {
        "id": "x60BdQNi6E4h"
      },
      "outputs": [],
      "source": [
        "# Define the LSTM model\n",
        "class LSTMClassifier(nn.Module):\n",
        "    def __init__(self, vocab_size, embedding_dim, hidden_size, output_size):\n",
        "        super(LSTMClassifier, self).__init__()\n",
        "        self.embedding = nn.Embedding(vocab_size, embedding_dim)\n",
        "        self.lstm = nn.LSTM(embedding_dim, hidden_size, batch_first=True)\n",
        "        self.fc = nn.Linear(hidden_size, output_size)\n",
        "\n",
        "    def forward(self, x):\n",
        "        x = self.embedding(x)\n",
        "        _, (h_n, _) = self.lstm(x)\n",
        "        output = self.fc(h_n[-1, :, :])\n",
        "        return output"
      ]
    },
    {
      "cell_type": "code",
      "execution_count": 24,
      "metadata": {
        "colab": {
          "base_uri": "https://localhost:8080/"
        },
        "id": "vfTyiels6E7C",
        "outputId": "673b61a3-1c90-44b4-8614-d6b0a659258a"
      },
      "outputs": [
        {
          "output_type": "execute_result",
          "data": {
            "text/plain": [
              "LSTMClassifier(\n",
              "  (embedding): Embedding(16214, 64)\n",
              "  (lstm): LSTM(64, 128, batch_first=True)\n",
              "  (fc): Linear(in_features=128, out_features=2, bias=True)\n",
              ")"
            ]
          },
          "metadata": {},
          "execution_count": 24
        }
      ],
      "source": [
        "# Instantiate the model, define loss function, and optimizer\n",
        "token_size = len(final_vocab) # Adjust based on your vocabulary size\n",
        "embedding_dim = 64  # Adjust based on your preference\n",
        "hidden_size = 128\n",
        "output_size = 2  # Number of classes\n",
        "\n",
        "model = LSTMClassifier(token_size, embedding_dim, hidden_size, output_size)\n",
        "criterion = nn.CrossEntropyLoss()\n",
        "optimizer = Adam(model.parameters(), lr=0.001)\n",
        "\n",
        "# device = 'cpu'\n",
        "device = torch.device(\"cuda\" if torch.cuda.is_available() else \"cpu\")\n",
        "model.to(device)"
      ]
    },
    {
      "cell_type": "code",
      "execution_count": null,
      "metadata": {
        "id": "SD6LSXTB6E9p"
      },
      "outputs": [],
      "source": [
        "## Training loop\n",
        "import torch\n",
        "\n",
        "epochs = 25\n",
        "train_losses = []\n",
        "val_losses = []\n",
        "train_accuracy_list = []\n",
        "val_accuracy_list = []\n",
        "\n",
        "for epoch in range(epochs):\n",
        "    model.train()  # Set the model to training mode\n",
        "    total_correct = 0\n",
        "    total_samples = 0\n",
        "    running_loss = 0\n",
        "\n",
        "    for batch in train_loader:\n",
        "        texts, labels = batch['text'], batch['label']\n",
        "        texts, labels = texts.to(device), labels.to(device)\n",
        "\n",
        "        # Zero the gradients\n",
        "        optimizer.zero_grad()\n",
        "\n",
        "        # Forward pass\n",
        "        outputs = model(texts)\n",
        "\n",
        "        # Compute loss\n",
        "        loss = criterion(outputs, labels)\n",
        "        running_loss += loss.item()\n",
        "\n",
        "        # Backward pass and optimization\n",
        "        loss.backward()\n",
        "        optimizer.step()\n",
        "\n",
        "        # Calculate training accuracy\n",
        "        _, predicted = torch.max(outputs.data, 1)\n",
        "        total_correct += (predicted == labels).sum().item()\n",
        "        total_samples += labels.size(0)\n",
        "\n",
        "    train_accuracy = total_correct / total_samples\n",
        "    train_losses.append(running_loss / len(train_loader))\n",
        "    train_accuracy_list.append(train_accuracy)\n",
        "\n",
        "    # Validation\n",
        "    model.eval()\n",
        "    val_loss = 0\n",
        "    correct = 0\n",
        "    total = 0\n",
        "\n",
        "    with torch.no_grad():\n",
        "        for batch in val_loader:\n",
        "            texts, labels = batch['text'], batch['label']\n",
        "            texts, labels = texts.to(device), labels.to(device)\n",
        "            outputs = model(texts)\n",
        "\n",
        "            # Compute validation loss\n",
        "            val_loss += criterion(outputs, labels).item()\n",
        "\n",
        "            _, predicted = torch.max(outputs.data, 1)\n",
        "            total += labels.size(0)\n",
        "            correct += (predicted == labels).sum().item()\n",
        "\n",
        "    # Save the model checkpoint\n",
        "    torch.save(model.state_dict(), f'model_checkpoint_{epoch}.pth')\n",
        "\n",
        "    # Average validation loss and accuracy\n",
        "    val_losses.append(val_loss / len(val_loader))\n",
        "    val_accuracy = correct / total\n",
        "    val_accuracy_list.append(val_accuracy)\n",
        "\n",
        "    # Print epoch summary\n",
        "    print(f'Epoch {epoch + 1}/{epochs}, Training Loss: {train_losses[-1]:.4f}, Training Accuracy: {train_accuracy:.4f}, Validation Loss: {val_losses[-1]:.4f}, Validation Accuracy: {val_accuracy:.4f}')\n"
      ]
    },
    {
      "cell_type": "code",
      "source": [
        "# Step 9: Make predictions\n",
        "model.eval()\n",
        "with torch.no_grad():\n",
        "    for batch in test_loader:\n",
        "        text, label = batch['text'], batch['label']\n",
        "        text, label = text.to(device), label.to(device)\n",
        "        outputs = model(text)\n",
        "        _, predicted = torch.max(outputs.data, 1)\n",
        "        print(text)\n",
        "        print(f'Predicted: {predicted}, Actual: {label}')\n",
        "\n",
        "        break"
      ],
      "metadata": {
        "id": "S476mFnNXHl3",
        "colab": {
          "base_uri": "https://localhost:8080/"
        },
        "outputId": "91ba025e-e4d3-45df-df8b-eb04b7435077"
      },
      "execution_count": 26,
      "outputs": [
        {
          "output_type": "stream",
          "name": "stdout",
          "text": [
            "tensor([[    7,     9,    10,  ..., 16213, 16213, 16213],\n",
            "        [    1,    53,     2,  ..., 16213, 16213, 16213],\n",
            "        [ 5660,  2164,  7100,  ..., 16213, 16213, 16213],\n",
            "        ...,\n",
            "        [    6,     7,     9,  ..., 16213, 16213, 16213],\n",
            "        [    7,  2255,     6,  ..., 16213, 16213, 16213],\n",
            "        [    1,     3,   315,  ..., 16213, 16213, 16213]], device='cuda:0')\n",
            "Predicted: tensor([0, 1, 0, 1, 1, 1, 0, 0, 0, 1, 0, 0, 0, 0, 0, 0, 0, 0, 0, 0, 1, 1, 0, 1],\n",
            "       device='cuda:0'), Actual: tensor([0, 1, 0, 1, 1, 1, 0, 0, 0, 1, 0, 0, 0, 0, 0, 0, 0, 0, 0, 0, 1, 1, 0, 1],\n",
            "       device='cuda:0')\n"
          ]
        }
      ]
    },
    {
      "cell_type": "code",
      "source": [
        "idx = 1232\n",
        "output = model(torch.tensor(X_test_encoded[idx]).to(device).unsqueeze(0))\n",
        "\n",
        "_, predicted = torch.max(output.data, 1)\n",
        "print(predicted)\n",
        "print(\" \")\n",
        "print(X_test_txt[idx], y_test[idx])\n",
        "print(X_test_encoded[idx])"
      ],
      "metadata": {
        "id": "-Di_qO86XHoU",
        "colab": {
          "base_uri": "https://localhost:8080/"
        },
        "outputId": "f4d6038a-60a2-410a-8157-81eb27d377ef"
      },
      "execution_count": 29,
      "outputs": [
        {
          "output_type": "stream",
          "name": "stdout",
          "text": [
            "tensor([0], device='cuda:0')\n",
            " \n",
            "42210 0\n",
            "[1, 16213, 16213, 16213, 16213, 16213, 16213, 16213, 16213, 16213, 16213, 16213, 16213, 16213, 16213, 16213, 16213, 16213, 16213, 16213, 16213, 16213, 16213, 16213, 16213, 16213, 16213, 16213, 16213, 16213, 16213, 16213, 16213, 16213, 16213, 16213, 16213, 16213, 16213, 16213, 16213, 16213, 16213, 16213, 16213, 16213, 16213, 16213, 16213, 16213, 16213, 16213, 16213, 16213, 16213, 16213, 16213, 16213, 16213, 16213, 16213, 16213, 16213, 16213, 16213, 16213, 16213, 16213, 16213, 16213, 16213, 16213, 16213, 16213, 16213, 16213, 16213, 16213, 16213, 16213, 16213, 16213, 16213, 16213, 16213, 16213, 16213, 16213, 16213, 16213, 16213, 16213, 16213, 16213, 16213, 16213, 16213, 16213, 16213, 16213]\n"
          ]
        }
      ]
    },
    {
      "cell_type": "code",
      "source": [
        "raw_text = \"name = ' OR 'a'='a';--\"\n",
        "\n",
        "idx = 73812\n",
        "raw_text = df.iloc[idx,0]\n",
        "raw_text = \"name = ' OR 'a'='a';-- and password = any\"\n",
        "\n",
        "# Tokenize and convert to indices\n",
        "indexed_text = [final_vocab.get(token, final_vocab['<unk>']) for token in tokenizer(raw_text)]\n",
        "# Pad the query\n",
        "if len(indexed_text) < pad_length:\n",
        "  padded_text = indexed_text + [final_vocab['<pad>']] * (pad_length - len(indexed_text))\n",
        "else:\n",
        "  padded_text = indexed_text[:pad_length]\n",
        "\n",
        "output = model(torch.tensor(padded_text).to(device).unsqueeze(0))\n",
        "_, predicted = torch.max(output.data, 1)\n",
        "print(raw_text, 'LABEL: ', df.iloc[idx,1])\n",
        "print(predicted)"
      ],
      "metadata": {
        "id": "p24RiOZ-XHtN",
        "colab": {
          "base_uri": "https://localhost:8080/"
        },
        "outputId": "6a2dd5f4-9c4f-409c-b923-6369c65030ca"
      },
      "execution_count": 49,
      "outputs": [
        {
          "output_type": "stream",
          "name": "stdout",
          "text": [
            "name = ' OR 'a'='a';-- and password = any LABEL:  1\n",
            "tensor([1], device='cuda:0')\n"
          ]
        }
      ]
    },
    {
      "cell_type": "code",
      "source": [],
      "metadata": {
        "id": "RIW0tE7lXHvj",
        "colab": {
          "base_uri": "https://localhost:8080/"
        },
        "outputId": "acd70a0e-56df-4f49-c801-8bc9c80fd712"
      },
      "execution_count": 35,
      "outputs": [
        {
          "output_type": "stream",
          "name": "stdout",
          "text": [
            "tensor([0], device='cuda:0')\n"
          ]
        }
      ]
    },
    {
      "cell_type": "code",
      "source": [],
      "metadata": {
        "id": "VuRbqO8AXHxz"
      },
      "execution_count": null,
      "outputs": []
    },
    {
      "cell_type": "code",
      "source": [],
      "metadata": {
        "id": "joluP4xpXHz3"
      },
      "execution_count": null,
      "outputs": []
    },
    {
      "cell_type": "markdown",
      "metadata": {
        "id": "3T1d254qRpjz"
      },
      "source": []
    }
  ],
  "metadata": {
    "kernelspec": {
      "display_name": "Python 3",
      "name": "python3"
    },
    "language_info": {
      "codemirror_mode": {
        "name": "ipython",
        "version": 3
      },
      "file_extension": ".py",
      "mimetype": "text/x-python",
      "name": "python",
      "nbconvert_exporter": "python",
      "pygments_lexer": "ipython3",
      "version": "3.11.8"
    },
    "colab": {
      "provenance": [],
      "machine_shape": "hm",
      "gpuType": "T4",
      "collapsed_sections": [
        "A96HPllBzB_1",
        "QfkICxqwSROs"
      ]
    },
    "accelerator": "GPU"
  },
  "nbformat": 4,
  "nbformat_minor": 0
}